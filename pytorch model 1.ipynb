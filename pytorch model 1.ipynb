{
 "cells": [
  {
   "cell_type": "code",
   "execution_count": 8,
   "metadata": {},
   "outputs": [],
   "source": [
    "from CustomDataset_peristence_img import data_loader_persistence_img\n",
    "import torchvision.transforms as transforms"
   ]
  },
  {
   "cell_type": "code",
   "execution_count": null,
   "metadata": {},
   "outputs": [],
   "source": []
  },
  {
   "cell_type": "code",
   "execution_count": 2,
   "metadata": {},
   "outputs": [],
   "source": [
    "# Create custom dataset\n",
    "custom_dataset = data_loader_persistence_img(geo_file_path='/Users/h6x/ORNL/git/opioid-risk-modeling/tennessee/data/processed data/SVI2018 TN counties with death rate HepVu/SVI2018_TN_counties_with_death_rate_HepVu.shp',\n",
    "    root_dir='/Users/h6x/ORNL/git/opioid-risk-modeling/tennessee/results/persistence images/percentiles/H0H1/EP_POV', transform=transforms.ToTensor())"
   ]
  },
  {
   "cell_type": "code",
   "execution_count": 3,
   "metadata": {},
   "outputs": [
    {
     "data": {
      "text/plain": [
       "95"
      ]
     },
     "execution_count": 3,
     "metadata": {},
     "output_type": "execute_result"
    }
   ],
   "source": [
    "len(custom_dataset)"
   ]
  },
  {
   "cell_type": "code",
   "execution_count": 7,
   "metadata": {},
   "outputs": [
    {
     "data": {
      "text/plain": [
       "(array([[[ 68,   1,  84, 255],\n",
       "         [ 68,   1,  84, 255],\n",
       "         [ 68,   1,  84, 255],\n",
       "         ...,\n",
       "         [ 68,   1,  84, 255],\n",
       "         [ 68,   1,  84, 255],\n",
       "         [ 68,   1,  84, 255]],\n",
       " \n",
       "        [[ 68,   1,  84, 255],\n",
       "         [ 68,   1,  84, 255],\n",
       "         [ 68,   1,  84, 255],\n",
       "         ...,\n",
       "         [ 68,   1,  84, 255],\n",
       "         [ 68,   1,  84, 255],\n",
       "         [ 68,   1,  84, 255]],\n",
       " \n",
       "        [[ 68,   1,  84, 255],\n",
       "         [ 68,   1,  84, 255],\n",
       "         [ 68,   1,  84, 255],\n",
       "         ...,\n",
       "         [ 68,   1,  84, 255],\n",
       "         [ 68,   1,  84, 255],\n",
       "         [ 68,   1,  84, 255]],\n",
       " \n",
       "        ...,\n",
       " \n",
       "        [[ 68,   1,  84, 255],\n",
       "         [ 68,   1,  84, 255],\n",
       "         [ 68,   1,  84, 255],\n",
       "         ...,\n",
       "         [ 68,   1,  84, 255],\n",
       "         [ 68,   1,  84, 255],\n",
       "         [ 68,   1,  84, 255]],\n",
       " \n",
       "        [[ 68,   1,  84, 255],\n",
       "         [ 68,   1,  84, 255],\n",
       "         [ 68,   1,  84, 255],\n",
       "         ...,\n",
       "         [ 68,   1,  84, 255],\n",
       "         [ 68,   1,  84, 255],\n",
       "         [ 68,   1,  84, 255]],\n",
       " \n",
       "        [[ 68,   1,  84, 255],\n",
       "         [ 68,   1,  84, 255],\n",
       "         [ 68,   1,  84, 255],\n",
       "         ...,\n",
       "         [ 68,   1,  84, 255],\n",
       "         [ 68,   1,  84, 255],\n",
       "         [ 68,   1,  84, 255]]], dtype=uint8),\n",
       " tensor(5))"
      ]
     },
     "execution_count": 7,
     "metadata": {},
     "output_type": "execute_result"
    }
   ],
   "source": [
    "custom_dataset[0]"
   ]
  },
  {
   "cell_type": "code",
   "execution_count": null,
   "metadata": {},
   "outputs": [],
   "source": [
    "import pandas as pd\n",
    "import os\n",
    "from skimage import io\n",
    "import geopandas as gpd"
   ]
  },
  {
   "cell_type": "code",
   "execution_count": null,
   "metadata": {},
   "outputs": [],
   "source": [
    "gdf = gpd.read_file('/Users/h6x/ORNL/git/opioid-risk-modeling/tennessee/data/processed data/SVI2018 TN counties with death rate HepVu/SVI2018_TN_counties_with_death_rate_HepVu.shp')"
   ]
  },
  {
   "cell_type": "code",
   "execution_count": null,
   "metadata": {},
   "outputs": [],
   "source": [
    "gdf.head(3)"
   ]
  },
  {
   "cell_type": "code",
   "execution_count": null,
   "metadata": {},
   "outputs": [],
   "source": [
    "type(gdf['FIPS'][0])"
   ]
  },
  {
   "cell_type": "code",
   "execution_count": null,
   "metadata": {},
   "outputs": [],
   "source": [
    "gdf.iloc[0]['FIPS']"
   ]
  },
  {
   "cell_type": "code",
   "execution_count": null,
   "metadata": {},
   "outputs": [],
   "source": [
    "gdf.iloc[0,4]"
   ]
  },
  {
   "cell_type": "code",
   "execution_count": null,
   "metadata": {},
   "outputs": [],
   "source": []
  },
  {
   "cell_type": "code",
   "execution_count": null,
   "metadata": {},
   "outputs": [],
   "source": []
  },
  {
   "cell_type": "code",
   "execution_count": null,
   "metadata": {},
   "outputs": [],
   "source": []
  }
 ],
 "metadata": {
  "kernelspec": {
   "display_name": "TDA",
   "language": "python",
   "name": "python3"
  },
  "language_info": {
   "codemirror_mode": {
    "name": "ipython",
    "version": 3
   },
   "file_extension": ".py",
   "mimetype": "text/x-python",
   "name": "python",
   "nbconvert_exporter": "python",
   "pygments_lexer": "ipython3",
   "version": "3.11.4"
  }
 },
 "nbformat": 4,
 "nbformat_minor": 2
}
